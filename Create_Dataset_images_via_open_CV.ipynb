{
 "cells": [
  {
   "cell_type": "code",
   "execution_count": 1,
   "metadata": {
    "id": "eGDNR3qiL7j6"
   },
   "outputs": [],
   "source": [
    "#In this example we will record images which we are going to label\n",
    "import cv2\n",
    "import os\n",
    "import time\n",
    "import uuid"
   ]
  },
  {
   "cell_type": "code",
   "execution_count": 2,
   "metadata": {
    "id": "-3ksr0uaP0ew"
   },
   "outputs": [],
   "source": [
    "IMAGE_PATH = 'images/collectedimages'"
   ]
  },
  {
   "cell_type": "code",
   "execution_count": 3,
   "metadata": {
    "id": "XjkRXa8FQAr8"
   },
   "outputs": [],
   "source": [
    "labels = ['hello', 'thanks', 'yes', 'no', 'iloveyou']\n",
    "number_img = 15"
   ]
  },
  {
   "cell_type": "code",
   "execution_count": 4,
   "metadata": {
    "colab": {
     "base_uri": "https://localhost:8080/",
     "height": 283
    },
    "id": "lId95BXmQbSL",
    "outputId": "3312f05d-574b-4b45-daaa-f83cf8e5a366"
   },
   "outputs": [
    {
     "name": "stdout",
     "output_type": "stream",
     "text": [
      "Collecting image for hello\n",
      "Collecting image for thanks\n",
      "Collecting image for yes\n",
      "Collecting image for no\n",
      "Collecting image for iloveyou\n"
     ]
    }
   ],
   "source": [
    "for label in labels:\n",
    "  os.makedirs('images/collectedimages/'+label)\n",
    "  cap = cv2.VideoCapture(0)\n",
    "  print('Collecting image for {}'.format(label))\n",
    "  time.sleep(5)\n",
    "  for imgnum in range(number_img):\n",
    "    ret, frame = cap.read()\n",
    "    imgname = os.path.join(IMAGE_PATH, label, label + '.' + '{}.jpg'.format(str(uuid.uuid1())))\n",
    "    cv2.imwrite(imgname, frame)\n",
    "    cv2.imshow('frame', frame)\n",
    "    time.sleep(2)\n",
    "\n",
    "    if cv2.waitKey(1) & 0xFF == ord('q'):\n",
    "      break\n",
    "  cap.release()"
   ]
  },
  {
   "cell_type": "code",
   "execution_count": null,
   "metadata": {},
   "outputs": [],
   "source": []
  }
 ],
 "metadata": {
  "colab": {
   "name": "Create Dataset images via open CV.ipynb",
   "provenance": [],
   "toc_visible": true
  },
  "kernelspec": {
   "display_name": "Python 3",
   "language": "python",
   "name": "python3"
  },
  "language_info": {
   "codemirror_mode": {
    "name": "ipython",
    "version": 3
   },
   "file_extension": ".py",
   "mimetype": "text/x-python",
   "name": "python",
   "nbconvert_exporter": "python",
   "pygments_lexer": "ipython3",
   "version": "3.9.1"
  }
 },
 "nbformat": 4,
 "nbformat_minor": 4
}
